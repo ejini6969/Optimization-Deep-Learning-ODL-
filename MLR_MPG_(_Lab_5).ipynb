{
  "nbformat": 4,
  "nbformat_minor": 0,
  "metadata": {
    "colab": {
      "provenance": [],
      "authorship_tag": "ABX9TyM4V+oi6OkGBTSw5Sl8kIR8",
      "include_colab_link": true
    },
    "kernelspec": {
      "name": "python3",
      "display_name": "Python 3"
    },
    "language_info": {
      "name": "python"
    }
  },
  "cells": [
    {
      "cell_type": "markdown",
      "metadata": {
        "id": "view-in-github",
        "colab_type": "text"
      },
      "source": [
        "<a href=\"https://colab.research.google.com/github/ejini6969/Optimization-Deep-Learning-ODL-/blob/main/MLR_MPG_(_Lab_5).ipynb\" target=\"_parent\"><img src=\"https://colab.research.google.com/assets/colab-badge.svg\" alt=\"Open In Colab\"/></a>"
      ]
    },
    {
      "cell_type": "markdown",
      "source": [
        "## Auto MPG Data Set\n",
        "\n",
        "Using an appropriate model (Linear Regression / Logistic Regression / Non Linear Regression), conduct the analysis for the \"mpg\" data. Do perform hyper parameter tuning to improve the model performance\n",
        "\n",
        "Data Dictionary\n",
        "1. mpg - fuel efficiency measured in miles per gallon (mpg)\n",
        "2. cylinders - number of cylinders in the engine\n",
        "3. displacement - engine displacement (in cubic inches)\n",
        "4. horsepower - engine horsepower\n",
        "5. weight - vehicle weight (in pounds)\n",
        "6. acceleration - time to accelerate from O to 60 mph (in seconds)\n",
        "7. model year\n",
        "8. origin - origin of car (1: American, 2: European, 3: Japanese)\n",
        "9. car name\n"
      ],
      "metadata": {
        "id": "7RyG9Ke9Qw1Z"
      }
    },
    {
      "cell_type": "code",
      "source": [
        "# Importing the libraries\n",
        "import numpy as np\n",
        "import pandas  as pd\n",
        "import matplotlib.pyplot as plt\n",
        "from sklearn.linear_model import LinearRegression\n",
        "from sklearn.preprocessing import PolynomialFeatures\n",
        "from sklearn.metrics import mean_squared_error"
      ],
      "metadata": {
        "id": "9KeCfRpKRQzo"
      },
      "execution_count": 1,
      "outputs": []
    },
    {
      "cell_type": "code",
      "source": [
        "from google.colab import drive\n",
        "drive.mount(\"/drive\")"
      ],
      "metadata": {
        "colab": {
          "base_uri": "https://localhost:8080/"
        },
        "id": "g6TMX_ZnRVNX",
        "outputId": "b9a9f44b-79de-4377-ab49-280e642f6777"
      },
      "execution_count": 3,
      "outputs": [
        {
          "output_type": "stream",
          "name": "stdout",
          "text": [
            "Mounted at /drive\n"
          ]
        }
      ]
    },
    {
      "cell_type": "code",
      "source": [
        "path = \"/content/mpg.csv\"\n",
        "df = pd.read_csv(path)\n",
        "df"
      ],
      "metadata": {
        "colab": {
          "base_uri": "https://localhost:8080/",
          "height": 423
        },
        "id": "gJvuZvu0RXLx",
        "outputId": "9cb97131-49cb-4362-a9d8-ca7340c15016"
      },
      "execution_count": 4,
      "outputs": [
        {
          "output_type": "execute_result",
          "data": {
            "text/plain": [
              "     mpg  cylinders  displacement  horsepower  weight  acceleration  \\\n",
              "0     18          8           307         130    3504            12   \n",
              "1     15          8           350         165    3693            12   \n",
              "2     18          8           318         150    3436            11   \n",
              "3     16          8           304         150    3433            12   \n",
              "4     17          8           302         140    3449            11   \n",
              "..   ...        ...           ...         ...     ...           ...   \n",
              "393   27          4           140          86    2790            16   \n",
              "394   44          4            97          52    2130            25   \n",
              "395   32          4           135          84    2295            12   \n",
              "396   28          4           120          79    2625            19   \n",
              "397   31          4           119          82    2720            19   \n",
              "\n",
              "     model_year  origin                     car_name  \n",
              "0            70       1  \\tchevrolet chevelle malibu  \n",
              "1            70       1          \\tbuick skylark 320  \n",
              "2            70       1         \\tplymouth satellite  \n",
              "3            70       1              \\tamc rebel sst  \n",
              "4            70       1                \\tford torino  \n",
              "..          ...     ...                          ...  \n",
              "393          82       1            \\tford mustang gl  \n",
              "394          82       2                  \\tvw pickup  \n",
              "395          82       1              \\tdodge rampage  \n",
              "396          82       1                \\tford ranger  \n",
              "397          82       1                 \\tchevy s-10  \n",
              "\n",
              "[398 rows x 9 columns]"
            ],
            "text/html": [
              "\n",
              "  <div id=\"df-b92663e7-5067-4a9c-bb1a-d26872fb35f9\">\n",
              "    <div class=\"colab-df-container\">\n",
              "      <div>\n",
              "<style scoped>\n",
              "    .dataframe tbody tr th:only-of-type {\n",
              "        vertical-align: middle;\n",
              "    }\n",
              "\n",
              "    .dataframe tbody tr th {\n",
              "        vertical-align: top;\n",
              "    }\n",
              "\n",
              "    .dataframe thead th {\n",
              "        text-align: right;\n",
              "    }\n",
              "</style>\n",
              "<table border=\"1\" class=\"dataframe\">\n",
              "  <thead>\n",
              "    <tr style=\"text-align: right;\">\n",
              "      <th></th>\n",
              "      <th>mpg</th>\n",
              "      <th>cylinders</th>\n",
              "      <th>displacement</th>\n",
              "      <th>horsepower</th>\n",
              "      <th>weight</th>\n",
              "      <th>acceleration</th>\n",
              "      <th>model_year</th>\n",
              "      <th>origin</th>\n",
              "      <th>car_name</th>\n",
              "    </tr>\n",
              "  </thead>\n",
              "  <tbody>\n",
              "    <tr>\n",
              "      <th>0</th>\n",
              "      <td>18</td>\n",
              "      <td>8</td>\n",
              "      <td>307</td>\n",
              "      <td>130</td>\n",
              "      <td>3504</td>\n",
              "      <td>12</td>\n",
              "      <td>70</td>\n",
              "      <td>1</td>\n",
              "      <td>\\tchevrolet chevelle malibu</td>\n",
              "    </tr>\n",
              "    <tr>\n",
              "      <th>1</th>\n",
              "      <td>15</td>\n",
              "      <td>8</td>\n",
              "      <td>350</td>\n",
              "      <td>165</td>\n",
              "      <td>3693</td>\n",
              "      <td>12</td>\n",
              "      <td>70</td>\n",
              "      <td>1</td>\n",
              "      <td>\\tbuick skylark 320</td>\n",
              "    </tr>\n",
              "    <tr>\n",
              "      <th>2</th>\n",
              "      <td>18</td>\n",
              "      <td>8</td>\n",
              "      <td>318</td>\n",
              "      <td>150</td>\n",
              "      <td>3436</td>\n",
              "      <td>11</td>\n",
              "      <td>70</td>\n",
              "      <td>1</td>\n",
              "      <td>\\tplymouth satellite</td>\n",
              "    </tr>\n",
              "    <tr>\n",
              "      <th>3</th>\n",
              "      <td>16</td>\n",
              "      <td>8</td>\n",
              "      <td>304</td>\n",
              "      <td>150</td>\n",
              "      <td>3433</td>\n",
              "      <td>12</td>\n",
              "      <td>70</td>\n",
              "      <td>1</td>\n",
              "      <td>\\tamc rebel sst</td>\n",
              "    </tr>\n",
              "    <tr>\n",
              "      <th>4</th>\n",
              "      <td>17</td>\n",
              "      <td>8</td>\n",
              "      <td>302</td>\n",
              "      <td>140</td>\n",
              "      <td>3449</td>\n",
              "      <td>11</td>\n",
              "      <td>70</td>\n",
              "      <td>1</td>\n",
              "      <td>\\tford torino</td>\n",
              "    </tr>\n",
              "    <tr>\n",
              "      <th>...</th>\n",
              "      <td>...</td>\n",
              "      <td>...</td>\n",
              "      <td>...</td>\n",
              "      <td>...</td>\n",
              "      <td>...</td>\n",
              "      <td>...</td>\n",
              "      <td>...</td>\n",
              "      <td>...</td>\n",
              "      <td>...</td>\n",
              "    </tr>\n",
              "    <tr>\n",
              "      <th>393</th>\n",
              "      <td>27</td>\n",
              "      <td>4</td>\n",
              "      <td>140</td>\n",
              "      <td>86</td>\n",
              "      <td>2790</td>\n",
              "      <td>16</td>\n",
              "      <td>82</td>\n",
              "      <td>1</td>\n",
              "      <td>\\tford mustang gl</td>\n",
              "    </tr>\n",
              "    <tr>\n",
              "      <th>394</th>\n",
              "      <td>44</td>\n",
              "      <td>4</td>\n",
              "      <td>97</td>\n",
              "      <td>52</td>\n",
              "      <td>2130</td>\n",
              "      <td>25</td>\n",
              "      <td>82</td>\n",
              "      <td>2</td>\n",
              "      <td>\\tvw pickup</td>\n",
              "    </tr>\n",
              "    <tr>\n",
              "      <th>395</th>\n",
              "      <td>32</td>\n",
              "      <td>4</td>\n",
              "      <td>135</td>\n",
              "      <td>84</td>\n",
              "      <td>2295</td>\n",
              "      <td>12</td>\n",
              "      <td>82</td>\n",
              "      <td>1</td>\n",
              "      <td>\\tdodge rampage</td>\n",
              "    </tr>\n",
              "    <tr>\n",
              "      <th>396</th>\n",
              "      <td>28</td>\n",
              "      <td>4</td>\n",
              "      <td>120</td>\n",
              "      <td>79</td>\n",
              "      <td>2625</td>\n",
              "      <td>19</td>\n",
              "      <td>82</td>\n",
              "      <td>1</td>\n",
              "      <td>\\tford ranger</td>\n",
              "    </tr>\n",
              "    <tr>\n",
              "      <th>397</th>\n",
              "      <td>31</td>\n",
              "      <td>4</td>\n",
              "      <td>119</td>\n",
              "      <td>82</td>\n",
              "      <td>2720</td>\n",
              "      <td>19</td>\n",
              "      <td>82</td>\n",
              "      <td>1</td>\n",
              "      <td>\\tchevy s-10</td>\n",
              "    </tr>\n",
              "  </tbody>\n",
              "</table>\n",
              "<p>398 rows × 9 columns</p>\n",
              "</div>\n",
              "      <button class=\"colab-df-convert\" onclick=\"convertToInteractive('df-b92663e7-5067-4a9c-bb1a-d26872fb35f9')\"\n",
              "              title=\"Convert this dataframe to an interactive table.\"\n",
              "              style=\"display:none;\">\n",
              "        \n",
              "  <svg xmlns=\"http://www.w3.org/2000/svg\" height=\"24px\"viewBox=\"0 0 24 24\"\n",
              "       width=\"24px\">\n",
              "    <path d=\"M0 0h24v24H0V0z\" fill=\"none\"/>\n",
              "    <path d=\"M18.56 5.44l.94 2.06.94-2.06 2.06-.94-2.06-.94-.94-2.06-.94 2.06-2.06.94zm-11 1L8.5 8.5l.94-2.06 2.06-.94-2.06-.94L8.5 2.5l-.94 2.06-2.06.94zm10 10l.94 2.06.94-2.06 2.06-.94-2.06-.94-.94-2.06-.94 2.06-2.06.94z\"/><path d=\"M17.41 7.96l-1.37-1.37c-.4-.4-.92-.59-1.43-.59-.52 0-1.04.2-1.43.59L10.3 9.45l-7.72 7.72c-.78.78-.78 2.05 0 2.83L4 21.41c.39.39.9.59 1.41.59.51 0 1.02-.2 1.41-.59l7.78-7.78 2.81-2.81c.8-.78.8-2.07 0-2.86zM5.41 20L4 18.59l7.72-7.72 1.47 1.35L5.41 20z\"/>\n",
              "  </svg>\n",
              "      </button>\n",
              "      \n",
              "  <style>\n",
              "    .colab-df-container {\n",
              "      display:flex;\n",
              "      flex-wrap:wrap;\n",
              "      gap: 12px;\n",
              "    }\n",
              "\n",
              "    .colab-df-convert {\n",
              "      background-color: #E8F0FE;\n",
              "      border: none;\n",
              "      border-radius: 50%;\n",
              "      cursor: pointer;\n",
              "      display: none;\n",
              "      fill: #1967D2;\n",
              "      height: 32px;\n",
              "      padding: 0 0 0 0;\n",
              "      width: 32px;\n",
              "    }\n",
              "\n",
              "    .colab-df-convert:hover {\n",
              "      background-color: #E2EBFA;\n",
              "      box-shadow: 0px 1px 2px rgba(60, 64, 67, 0.3), 0px 1px 3px 1px rgba(60, 64, 67, 0.15);\n",
              "      fill: #174EA6;\n",
              "    }\n",
              "\n",
              "    [theme=dark] .colab-df-convert {\n",
              "      background-color: #3B4455;\n",
              "      fill: #D2E3FC;\n",
              "    }\n",
              "\n",
              "    [theme=dark] .colab-df-convert:hover {\n",
              "      background-color: #434B5C;\n",
              "      box-shadow: 0px 1px 3px 1px rgba(0, 0, 0, 0.15);\n",
              "      filter: drop-shadow(0px 1px 2px rgba(0, 0, 0, 0.3));\n",
              "      fill: #FFFFFF;\n",
              "    }\n",
              "  </style>\n",
              "\n",
              "      <script>\n",
              "        const buttonEl =\n",
              "          document.querySelector('#df-b92663e7-5067-4a9c-bb1a-d26872fb35f9 button.colab-df-convert');\n",
              "        buttonEl.style.display =\n",
              "          google.colab.kernel.accessAllowed ? 'block' : 'none';\n",
              "\n",
              "        async function convertToInteractive(key) {\n",
              "          const element = document.querySelector('#df-b92663e7-5067-4a9c-bb1a-d26872fb35f9');\n",
              "          const dataTable =\n",
              "            await google.colab.kernel.invokeFunction('convertToInteractive',\n",
              "                                                     [key], {});\n",
              "          if (!dataTable) return;\n",
              "\n",
              "          const docLinkHtml = 'Like what you see? Visit the ' +\n",
              "            '<a target=\"_blank\" href=https://colab.research.google.com/notebooks/data_table.ipynb>data table notebook</a>'\n",
              "            + ' to learn more about interactive tables.';\n",
              "          element.innerHTML = '';\n",
              "          dataTable['output_type'] = 'display_data';\n",
              "          await google.colab.output.renderOutput(dataTable, element);\n",
              "          const docLink = document.createElement('div');\n",
              "          docLink.innerHTML = docLinkHtml;\n",
              "          element.appendChild(docLink);\n",
              "        }\n",
              "      </script>\n",
              "    </div>\n",
              "  </div>\n",
              "  "
            ]
          },
          "metadata": {},
          "execution_count": 4
        }
      ]
    },
    {
      "cell_type": "code",
      "source": [
        "corr = df.corr(method = \"pearson\")\n",
        "corr.style.background_gradient(cmap = \"coolwarm\").set_precision(2)"
      ],
      "metadata": {
        "colab": {
          "base_uri": "https://localhost:8080/",
          "height": 335
        },
        "id": "U2yodgb2SCky",
        "outputId": "32268058-10d3-4de0-e0a2-3202fc25f596"
      },
      "execution_count": 5,
      "outputs": [
        {
          "output_type": "stream",
          "name": "stderr",
          "text": [
            "<ipython-input-5-45679e5f189b>:2: FutureWarning: this method is deprecated in favour of `Styler.format(precision=..)`\n",
            "  corr.style.background_gradient(cmap = \"coolwarm\").set_precision(2)\n"
          ]
        },
        {
          "output_type": "execute_result",
          "data": {
            "text/plain": [
              "<pandas.io.formats.style.Styler at 0x7f222f171e50>"
            ],
            "text/html": [
              "<style type=\"text/css\">\n",
              "#T_27670_row0_col0, #T_27670_row1_col1, #T_27670_row2_col2, #T_27670_row3_col3, #T_27670_row4_col4, #T_27670_row5_col5, #T_27670_row6_col6, #T_27670_row7_col7 {\n",
              "  background-color: #b40426;\n",
              "  color: #f1f1f1;\n",
              "}\n",
              "#T_27670_row0_col1, #T_27670_row0_col2, #T_27670_row0_col3, #T_27670_row0_col4, #T_27670_row2_col7, #T_27670_row3_col5, #T_27670_row3_col6, #T_27670_row4_col0 {\n",
              "  background-color: #3b4cc0;\n",
              "  color: #f1f1f1;\n",
              "}\n",
              "#T_27670_row0_col5 {\n",
              "  background-color: #f6bea4;\n",
              "  color: #000000;\n",
              "}\n",
              "#T_27670_row0_col6 {\n",
              "  background-color: #f7aa8c;\n",
              "  color: #000000;\n",
              "}\n",
              "#T_27670_row0_col7 {\n",
              "  background-color: #f6a283;\n",
              "  color: #000000;\n",
              "}\n",
              "#T_27670_row1_col0, #T_27670_row1_col7, #T_27670_row3_col0 {\n",
              "  background-color: #4358cb;\n",
              "  color: #f1f1f1;\n",
              "}\n",
              "#T_27670_row1_col2 {\n",
              "  background-color: #bd1f2d;\n",
              "  color: #f1f1f1;\n",
              "}\n",
              "#T_27670_row1_col3, #T_27670_row3_col1 {\n",
              "  background-color: #d24b40;\n",
              "  color: #f1f1f1;\n",
              "}\n",
              "#T_27670_row1_col4, #T_27670_row2_col3, #T_27670_row3_col2 {\n",
              "  background-color: #c83836;\n",
              "  color: #f1f1f1;\n",
              "}\n",
              "#T_27670_row1_col5, #T_27670_row7_col2 {\n",
              "  background-color: #5b7ae5;\n",
              "  color: #f1f1f1;\n",
              "}\n",
              "#T_27670_row1_col6 {\n",
              "  background-color: #4961d2;\n",
              "  color: #f1f1f1;\n",
              "}\n",
              "#T_27670_row2_col0 {\n",
              "  background-color: #3e51c5;\n",
              "  color: #f1f1f1;\n",
              "}\n",
              "#T_27670_row2_col1 {\n",
              "  background-color: #be242e;\n",
              "  color: #f1f1f1;\n",
              "}\n",
              "#T_27670_row2_col4, #T_27670_row4_col2 {\n",
              "  background-color: #c12b30;\n",
              "  color: #f1f1f1;\n",
              "}\n",
              "#T_27670_row2_col5 {\n",
              "  background-color: #5470de;\n",
              "  color: #f1f1f1;\n",
              "}\n",
              "#T_27670_row2_col6 {\n",
              "  background-color: #445acc;\n",
              "  color: #f1f1f1;\n",
              "}\n",
              "#T_27670_row3_col4 {\n",
              "  background-color: #cd423b;\n",
              "  color: #f1f1f1;\n",
              "}\n",
              "#T_27670_row3_col7 {\n",
              "  background-color: #5977e3;\n",
              "  color: #f1f1f1;\n",
              "}\n",
              "#T_27670_row4_col1 {\n",
              "  background-color: #ca3b37;\n",
              "  color: #f1f1f1;\n",
              "}\n",
              "#T_27670_row4_col3 {\n",
              "  background-color: #cf453c;\n",
              "  color: #f1f1f1;\n",
              "}\n",
              "#T_27670_row4_col5 {\n",
              "  background-color: #6e90f2;\n",
              "  color: #f1f1f1;\n",
              "}\n",
              "#T_27670_row4_col6 {\n",
              "  background-color: #516ddb;\n",
              "  color: #f1f1f1;\n",
              "}\n",
              "#T_27670_row4_col7 {\n",
              "  background-color: #3f53c6;\n",
              "  color: #f1f1f1;\n",
              "}\n",
              "#T_27670_row5_col0 {\n",
              "  background-color: #f7b599;\n",
              "  color: #000000;\n",
              "}\n",
              "#T_27670_row5_col1 {\n",
              "  background-color: #6a8bef;\n",
              "  color: #f1f1f1;\n",
              "}\n",
              "#T_27670_row5_col2 {\n",
              "  background-color: #6788ee;\n",
              "  color: #f1f1f1;\n",
              "}\n",
              "#T_27670_row5_col3 {\n",
              "  background-color: #4a63d3;\n",
              "  color: #f1f1f1;\n",
              "}\n",
              "#T_27670_row5_col4 {\n",
              "  background-color: #85a8fc;\n",
              "  color: #f1f1f1;\n",
              "}\n",
              "#T_27670_row5_col6 {\n",
              "  background-color: #d6dce4;\n",
              "  color: #000000;\n",
              "}\n",
              "#T_27670_row5_col7 {\n",
              "  background-color: #dfdbd9;\n",
              "  color: #000000;\n",
              "}\n",
              "#T_27670_row6_col0 {\n",
              "  background-color: #f29072;\n",
              "  color: #f1f1f1;\n",
              "}\n",
              "#T_27670_row6_col1, #T_27670_row6_col2 {\n",
              "  background-color: #89acfd;\n",
              "  color: #000000;\n",
              "}\n",
              "#T_27670_row6_col3 {\n",
              "  background-color: #7b9ff9;\n",
              "  color: #f1f1f1;\n",
              "}\n",
              "#T_27670_row6_col4 {\n",
              "  background-color: #9abbff;\n",
              "  color: #000000;\n",
              "}\n",
              "#T_27670_row6_col5 {\n",
              "  background-color: #ead4c8;\n",
              "  color: #000000;\n",
              "}\n",
              "#T_27670_row6_col7 {\n",
              "  background-color: #dadce0;\n",
              "  color: #000000;\n",
              "}\n",
              "#T_27670_row7_col0 {\n",
              "  background-color: #f39577;\n",
              "  color: #000000;\n",
              "}\n",
              "#T_27670_row7_col1 {\n",
              "  background-color: #5f7fe8;\n",
              "  color: #f1f1f1;\n",
              "}\n",
              "#T_27670_row7_col3 {\n",
              "  background-color: #7699f6;\n",
              "  color: #f1f1f1;\n",
              "}\n",
              "#T_27670_row7_col4 {\n",
              "  background-color: #6485ec;\n",
              "  color: #f1f1f1;\n",
              "}\n",
              "#T_27670_row7_col5 {\n",
              "  background-color: #e4d9d2;\n",
              "  color: #000000;\n",
              "}\n",
              "#T_27670_row7_col6 {\n",
              "  background-color: #c6d6f1;\n",
              "  color: #000000;\n",
              "}\n",
              "</style>\n",
              "<table id=\"T_27670_\" class=\"dataframe\">\n",
              "  <thead>\n",
              "    <tr>\n",
              "      <th class=\"blank level0\" >&nbsp;</th>\n",
              "      <th class=\"col_heading level0 col0\" >mpg</th>\n",
              "      <th class=\"col_heading level0 col1\" >cylinders</th>\n",
              "      <th class=\"col_heading level0 col2\" >displacement</th>\n",
              "      <th class=\"col_heading level0 col3\" >horsepower</th>\n",
              "      <th class=\"col_heading level0 col4\" >weight</th>\n",
              "      <th class=\"col_heading level0 col5\" >acceleration</th>\n",
              "      <th class=\"col_heading level0 col6\" >model_year</th>\n",
              "      <th class=\"col_heading level0 col7\" >origin</th>\n",
              "    </tr>\n",
              "  </thead>\n",
              "  <tbody>\n",
              "    <tr>\n",
              "      <th id=\"T_27670_level0_row0\" class=\"row_heading level0 row0\" >mpg</th>\n",
              "      <td id=\"T_27670_row0_col0\" class=\"data row0 col0\" >1.00</td>\n",
              "      <td id=\"T_27670_row0_col1\" class=\"data row0 col1\" >-0.77</td>\n",
              "      <td id=\"T_27670_row0_col2\" class=\"data row0 col2\" >-0.80</td>\n",
              "      <td id=\"T_27670_row0_col3\" class=\"data row0 col3\" >-0.78</td>\n",
              "      <td id=\"T_27670_row0_col4\" class=\"data row0 col4\" >-0.83</td>\n",
              "      <td id=\"T_27670_row0_col5\" class=\"data row0 col5\" >0.40</td>\n",
              "      <td id=\"T_27670_row0_col6\" class=\"data row0 col6\" >0.58</td>\n",
              "      <td id=\"T_27670_row0_col7\" class=\"data row0 col7\" >0.56</td>\n",
              "    </tr>\n",
              "    <tr>\n",
              "      <th id=\"T_27670_level0_row1\" class=\"row_heading level0 row1\" >cylinders</th>\n",
              "      <td id=\"T_27670_row1_col0\" class=\"data row1 col0\" >-0.77</td>\n",
              "      <td id=\"T_27670_row1_col1\" class=\"data row1 col1\" >1.00</td>\n",
              "      <td id=\"T_27670_row1_col2\" class=\"data row1 col2\" >0.95</td>\n",
              "      <td id=\"T_27670_row1_col3\" class=\"data row1 col3\" >0.84</td>\n",
              "      <td id=\"T_27670_row1_col4\" class=\"data row1 col4\" >0.90</td>\n",
              "      <td id=\"T_27670_row1_col5\" class=\"data row1 col5\" >-0.50</td>\n",
              "      <td id=\"T_27670_row1_col6\" class=\"data row1 col6\" >-0.35</td>\n",
              "      <td id=\"T_27670_row1_col7\" class=\"data row1 col7\" >-0.56</td>\n",
              "    </tr>\n",
              "    <tr>\n",
              "      <th id=\"T_27670_level0_row2\" class=\"row_heading level0 row2\" >displacement</th>\n",
              "      <td id=\"T_27670_row2_col0\" class=\"data row2 col0\" >-0.80</td>\n",
              "      <td id=\"T_27670_row2_col1\" class=\"data row2 col1\" >0.95</td>\n",
              "      <td id=\"T_27670_row2_col2\" class=\"data row2 col2\" >1.00</td>\n",
              "      <td id=\"T_27670_row2_col3\" class=\"data row2 col3\" >0.90</td>\n",
              "      <td id=\"T_27670_row2_col4\" class=\"data row2 col4\" >0.93</td>\n",
              "      <td id=\"T_27670_row2_col5\" class=\"data row2 col5\" >-0.54</td>\n",
              "      <td id=\"T_27670_row2_col6\" class=\"data row2 col6\" >-0.37</td>\n",
              "      <td id=\"T_27670_row2_col7\" class=\"data row2 col7\" >-0.61</td>\n",
              "    </tr>\n",
              "    <tr>\n",
              "      <th id=\"T_27670_level0_row3\" class=\"row_heading level0 row3\" >horsepower</th>\n",
              "      <td id=\"T_27670_row3_col0\" class=\"data row3 col0\" >-0.78</td>\n",
              "      <td id=\"T_27670_row3_col1\" class=\"data row3 col1\" >0.84</td>\n",
              "      <td id=\"T_27670_row3_col2\" class=\"data row3 col2\" >0.90</td>\n",
              "      <td id=\"T_27670_row3_col3\" class=\"data row3 col3\" >1.00</td>\n",
              "      <td id=\"T_27670_row3_col4\" class=\"data row3 col4\" >0.86</td>\n",
              "      <td id=\"T_27670_row3_col5\" class=\"data row3 col5\" >-0.68</td>\n",
              "      <td id=\"T_27670_row3_col6\" class=\"data row3 col6\" >-0.42</td>\n",
              "      <td id=\"T_27670_row3_col7\" class=\"data row3 col7\" >-0.45</td>\n",
              "    </tr>\n",
              "    <tr>\n",
              "      <th id=\"T_27670_level0_row4\" class=\"row_heading level0 row4\" >weight</th>\n",
              "      <td id=\"T_27670_row4_col0\" class=\"data row4 col0\" >-0.83</td>\n",
              "      <td id=\"T_27670_row4_col1\" class=\"data row4 col1\" >0.90</td>\n",
              "      <td id=\"T_27670_row4_col2\" class=\"data row4 col2\" >0.93</td>\n",
              "      <td id=\"T_27670_row4_col3\" class=\"data row4 col3\" >0.86</td>\n",
              "      <td id=\"T_27670_row4_col4\" class=\"data row4 col4\" >1.00</td>\n",
              "      <td id=\"T_27670_row4_col5\" class=\"data row4 col5\" >-0.41</td>\n",
              "      <td id=\"T_27670_row4_col6\" class=\"data row4 col6\" >-0.31</td>\n",
              "      <td id=\"T_27670_row4_col7\" class=\"data row4 col7\" >-0.58</td>\n",
              "    </tr>\n",
              "    <tr>\n",
              "      <th id=\"T_27670_level0_row5\" class=\"row_heading level0 row5\" >acceleration</th>\n",
              "      <td id=\"T_27670_row5_col0\" class=\"data row5 col0\" >0.40</td>\n",
              "      <td id=\"T_27670_row5_col1\" class=\"data row5 col1\" >-0.50</td>\n",
              "      <td id=\"T_27670_row5_col2\" class=\"data row5 col2\" >-0.54</td>\n",
              "      <td id=\"T_27670_row5_col3\" class=\"data row5 col3\" >-0.68</td>\n",
              "      <td id=\"T_27670_row5_col4\" class=\"data row5 col4\" >-0.41</td>\n",
              "      <td id=\"T_27670_row5_col5\" class=\"data row5 col5\" >1.00</td>\n",
              "      <td id=\"T_27670_row5_col6\" class=\"data row5 col6\" >0.26</td>\n",
              "      <td id=\"T_27670_row5_col7\" class=\"data row5 col7\" >0.21</td>\n",
              "    </tr>\n",
              "    <tr>\n",
              "      <th id=\"T_27670_level0_row6\" class=\"row_heading level0 row6\" >model_year</th>\n",
              "      <td id=\"T_27670_row6_col0\" class=\"data row6 col0\" >0.58</td>\n",
              "      <td id=\"T_27670_row6_col1\" class=\"data row6 col1\" >-0.35</td>\n",
              "      <td id=\"T_27670_row6_col2\" class=\"data row6 col2\" >-0.37</td>\n",
              "      <td id=\"T_27670_row6_col3\" class=\"data row6 col3\" >-0.42</td>\n",
              "      <td id=\"T_27670_row6_col4\" class=\"data row6 col4\" >-0.31</td>\n",
              "      <td id=\"T_27670_row6_col5\" class=\"data row6 col5\" >0.26</td>\n",
              "      <td id=\"T_27670_row6_col6\" class=\"data row6 col6\" >1.00</td>\n",
              "      <td id=\"T_27670_row6_col7\" class=\"data row6 col7\" >0.18</td>\n",
              "    </tr>\n",
              "    <tr>\n",
              "      <th id=\"T_27670_level0_row7\" class=\"row_heading level0 row7\" >origin</th>\n",
              "      <td id=\"T_27670_row7_col0\" class=\"data row7 col0\" >0.56</td>\n",
              "      <td id=\"T_27670_row7_col1\" class=\"data row7 col1\" >-0.56</td>\n",
              "      <td id=\"T_27670_row7_col2\" class=\"data row7 col2\" >-0.61</td>\n",
              "      <td id=\"T_27670_row7_col3\" class=\"data row7 col3\" >-0.45</td>\n",
              "      <td id=\"T_27670_row7_col4\" class=\"data row7 col4\" >-0.58</td>\n",
              "      <td id=\"T_27670_row7_col5\" class=\"data row7 col5\" >0.21</td>\n",
              "      <td id=\"T_27670_row7_col6\" class=\"data row7 col6\" >0.18</td>\n",
              "      <td id=\"T_27670_row7_col7\" class=\"data row7 col7\" >1.00</td>\n",
              "    </tr>\n",
              "  </tbody>\n",
              "</table>\n"
            ]
          },
          "metadata": {},
          "execution_count": 5
        }
      ]
    },
    {
      "cell_type": "code",
      "source": [
        "df.columns"
      ],
      "metadata": {
        "colab": {
          "base_uri": "https://localhost:8080/"
        },
        "id": "JlIQ3FnOSLB_",
        "outputId": "fcc0fd2a-ee3d-4cbe-fe7e-9259d5d32655"
      },
      "execution_count": 6,
      "outputs": [
        {
          "output_type": "execute_result",
          "data": {
            "text/plain": [
              "Index(['mpg', 'cylinders', 'displacement', 'horsepower', 'weight',\n",
              "       'acceleration', 'model_year', 'origin', 'car_name'],\n",
              "      dtype='object')"
            ]
          },
          "metadata": {},
          "execution_count": 6
        }
      ]
    },
    {
      "cell_type": "code",
      "source": [
        "df.info()"
      ],
      "metadata": {
        "colab": {
          "base_uri": "https://localhost:8080/"
        },
        "id": "WDage23YSMni",
        "outputId": "350d1ddb-8e1c-4156-8a99-5796eedcce83"
      },
      "execution_count": 7,
      "outputs": [
        {
          "output_type": "stream",
          "name": "stdout",
          "text": [
            "<class 'pandas.core.frame.DataFrame'>\n",
            "RangeIndex: 398 entries, 0 to 397\n",
            "Data columns (total 9 columns):\n",
            " #   Column        Non-Null Count  Dtype \n",
            "---  ------        --------------  ----- \n",
            " 0   mpg           398 non-null    int64 \n",
            " 1   cylinders     398 non-null    int64 \n",
            " 2   displacement  398 non-null    int64 \n",
            " 3   horsepower    398 non-null    int64 \n",
            " 4   weight        398 non-null    int64 \n",
            " 5   acceleration  398 non-null    int64 \n",
            " 6   model_year    398 non-null    int64 \n",
            " 7   origin        398 non-null    int64 \n",
            " 8   car_name      398 non-null    object\n",
            "dtypes: int64(8), object(1)\n",
            "memory usage: 28.1+ KB\n"
          ]
        }
      ]
    },
    {
      "cell_type": "code",
      "source": [
        "df.shape"
      ],
      "metadata": {
        "colab": {
          "base_uri": "https://localhost:8080/"
        },
        "id": "bc4dgnOzSOhS",
        "outputId": "31eaea77-ef5d-4fd0-e088-0c58f6ca339e"
      },
      "execution_count": 8,
      "outputs": [
        {
          "output_type": "execute_result",
          "data": {
            "text/plain": [
              "(398, 9)"
            ]
          },
          "metadata": {},
          "execution_count": 8
        }
      ]
    },
    {
      "cell_type": "code",
      "source": [
        "Y = df[\"mpg\"]\n",
        "X = df.drop([\"car_name\", \"mpg\"], axis = 1)"
      ],
      "metadata": {
        "id": "cmmgfYIZS3dr"
      },
      "execution_count": 16,
      "outputs": []
    },
    {
      "cell_type": "code",
      "source": [
        "X.head()"
      ],
      "metadata": {
        "colab": {
          "base_uri": "https://localhost:8080/",
          "height": 206
        },
        "id": "sh7UWlBCS8xt",
        "outputId": "e36a998e-ca14-4f4f-c7e7-9faf8adb9128"
      },
      "execution_count": 17,
      "outputs": [
        {
          "output_type": "execute_result",
          "data": {
            "text/plain": [
              "   cylinders  displacement  horsepower  weight  acceleration  model_year  \\\n",
              "0          8           307         130    3504            12          70   \n",
              "1          8           350         165    3693            12          70   \n",
              "2          8           318         150    3436            11          70   \n",
              "3          8           304         150    3433            12          70   \n",
              "4          8           302         140    3449            11          70   \n",
              "\n",
              "   origin  \n",
              "0       1  \n",
              "1       1  \n",
              "2       1  \n",
              "3       1  \n",
              "4       1  "
            ],
            "text/html": [
              "\n",
              "  <div id=\"df-8b8673c6-8004-44e5-848d-500d05bba718\">\n",
              "    <div class=\"colab-df-container\">\n",
              "      <div>\n",
              "<style scoped>\n",
              "    .dataframe tbody tr th:only-of-type {\n",
              "        vertical-align: middle;\n",
              "    }\n",
              "\n",
              "    .dataframe tbody tr th {\n",
              "        vertical-align: top;\n",
              "    }\n",
              "\n",
              "    .dataframe thead th {\n",
              "        text-align: right;\n",
              "    }\n",
              "</style>\n",
              "<table border=\"1\" class=\"dataframe\">\n",
              "  <thead>\n",
              "    <tr style=\"text-align: right;\">\n",
              "      <th></th>\n",
              "      <th>cylinders</th>\n",
              "      <th>displacement</th>\n",
              "      <th>horsepower</th>\n",
              "      <th>weight</th>\n",
              "      <th>acceleration</th>\n",
              "      <th>model_year</th>\n",
              "      <th>origin</th>\n",
              "    </tr>\n",
              "  </thead>\n",
              "  <tbody>\n",
              "    <tr>\n",
              "      <th>0</th>\n",
              "      <td>8</td>\n",
              "      <td>307</td>\n",
              "      <td>130</td>\n",
              "      <td>3504</td>\n",
              "      <td>12</td>\n",
              "      <td>70</td>\n",
              "      <td>1</td>\n",
              "    </tr>\n",
              "    <tr>\n",
              "      <th>1</th>\n",
              "      <td>8</td>\n",
              "      <td>350</td>\n",
              "      <td>165</td>\n",
              "      <td>3693</td>\n",
              "      <td>12</td>\n",
              "      <td>70</td>\n",
              "      <td>1</td>\n",
              "    </tr>\n",
              "    <tr>\n",
              "      <th>2</th>\n",
              "      <td>8</td>\n",
              "      <td>318</td>\n",
              "      <td>150</td>\n",
              "      <td>3436</td>\n",
              "      <td>11</td>\n",
              "      <td>70</td>\n",
              "      <td>1</td>\n",
              "    </tr>\n",
              "    <tr>\n",
              "      <th>3</th>\n",
              "      <td>8</td>\n",
              "      <td>304</td>\n",
              "      <td>150</td>\n",
              "      <td>3433</td>\n",
              "      <td>12</td>\n",
              "      <td>70</td>\n",
              "      <td>1</td>\n",
              "    </tr>\n",
              "    <tr>\n",
              "      <th>4</th>\n",
              "      <td>8</td>\n",
              "      <td>302</td>\n",
              "      <td>140</td>\n",
              "      <td>3449</td>\n",
              "      <td>11</td>\n",
              "      <td>70</td>\n",
              "      <td>1</td>\n",
              "    </tr>\n",
              "  </tbody>\n",
              "</table>\n",
              "</div>\n",
              "      <button class=\"colab-df-convert\" onclick=\"convertToInteractive('df-8b8673c6-8004-44e5-848d-500d05bba718')\"\n",
              "              title=\"Convert this dataframe to an interactive table.\"\n",
              "              style=\"display:none;\">\n",
              "        \n",
              "  <svg xmlns=\"http://www.w3.org/2000/svg\" height=\"24px\"viewBox=\"0 0 24 24\"\n",
              "       width=\"24px\">\n",
              "    <path d=\"M0 0h24v24H0V0z\" fill=\"none\"/>\n",
              "    <path d=\"M18.56 5.44l.94 2.06.94-2.06 2.06-.94-2.06-.94-.94-2.06-.94 2.06-2.06.94zm-11 1L8.5 8.5l.94-2.06 2.06-.94-2.06-.94L8.5 2.5l-.94 2.06-2.06.94zm10 10l.94 2.06.94-2.06 2.06-.94-2.06-.94-.94-2.06-.94 2.06-2.06.94z\"/><path d=\"M17.41 7.96l-1.37-1.37c-.4-.4-.92-.59-1.43-.59-.52 0-1.04.2-1.43.59L10.3 9.45l-7.72 7.72c-.78.78-.78 2.05 0 2.83L4 21.41c.39.39.9.59 1.41.59.51 0 1.02-.2 1.41-.59l7.78-7.78 2.81-2.81c.8-.78.8-2.07 0-2.86zM5.41 20L4 18.59l7.72-7.72 1.47 1.35L5.41 20z\"/>\n",
              "  </svg>\n",
              "      </button>\n",
              "      \n",
              "  <style>\n",
              "    .colab-df-container {\n",
              "      display:flex;\n",
              "      flex-wrap:wrap;\n",
              "      gap: 12px;\n",
              "    }\n",
              "\n",
              "    .colab-df-convert {\n",
              "      background-color: #E8F0FE;\n",
              "      border: none;\n",
              "      border-radius: 50%;\n",
              "      cursor: pointer;\n",
              "      display: none;\n",
              "      fill: #1967D2;\n",
              "      height: 32px;\n",
              "      padding: 0 0 0 0;\n",
              "      width: 32px;\n",
              "    }\n",
              "\n",
              "    .colab-df-convert:hover {\n",
              "      background-color: #E2EBFA;\n",
              "      box-shadow: 0px 1px 2px rgba(60, 64, 67, 0.3), 0px 1px 3px 1px rgba(60, 64, 67, 0.15);\n",
              "      fill: #174EA6;\n",
              "    }\n",
              "\n",
              "    [theme=dark] .colab-df-convert {\n",
              "      background-color: #3B4455;\n",
              "      fill: #D2E3FC;\n",
              "    }\n",
              "\n",
              "    [theme=dark] .colab-df-convert:hover {\n",
              "      background-color: #434B5C;\n",
              "      box-shadow: 0px 1px 3px 1px rgba(0, 0, 0, 0.15);\n",
              "      filter: drop-shadow(0px 1px 2px rgba(0, 0, 0, 0.3));\n",
              "      fill: #FFFFFF;\n",
              "    }\n",
              "  </style>\n",
              "\n",
              "      <script>\n",
              "        const buttonEl =\n",
              "          document.querySelector('#df-8b8673c6-8004-44e5-848d-500d05bba718 button.colab-df-convert');\n",
              "        buttonEl.style.display =\n",
              "          google.colab.kernel.accessAllowed ? 'block' : 'none';\n",
              "\n",
              "        async function convertToInteractive(key) {\n",
              "          const element = document.querySelector('#df-8b8673c6-8004-44e5-848d-500d05bba718');\n",
              "          const dataTable =\n",
              "            await google.colab.kernel.invokeFunction('convertToInteractive',\n",
              "                                                     [key], {});\n",
              "          if (!dataTable) return;\n",
              "\n",
              "          const docLinkHtml = 'Like what you see? Visit the ' +\n",
              "            '<a target=\"_blank\" href=https://colab.research.google.com/notebooks/data_table.ipynb>data table notebook</a>'\n",
              "            + ' to learn more about interactive tables.';\n",
              "          element.innerHTML = '';\n",
              "          dataTable['output_type'] = 'display_data';\n",
              "          await google.colab.output.renderOutput(dataTable, element);\n",
              "          const docLink = document.createElement('div');\n",
              "          docLink.innerHTML = docLinkHtml;\n",
              "          element.appendChild(docLink);\n",
              "        }\n",
              "      </script>\n",
              "    </div>\n",
              "  </div>\n",
              "  "
            ]
          },
          "metadata": {},
          "execution_count": 17
        }
      ]
    },
    {
      "cell_type": "code",
      "source": [
        "# Split the data\n",
        "from sklearn.model_selection import train_test_split\n",
        "X_train, X_test, Y_train, Y_test = train_test_split(X, Y, test_size = 0.3, random_state = 0)\n",
        "print(X_train.shape, X_test.shape, Y_train.shape, Y_test.shape)"
      ],
      "metadata": {
        "colab": {
          "base_uri": "https://localhost:8080/"
        },
        "id": "a33ycJR3UY_2",
        "outputId": "d2000807-f77c-448b-a420-9f30afa0285c"
      },
      "execution_count": 18,
      "outputs": [
        {
          "output_type": "stream",
          "name": "stdout",
          "text": [
            "(278, 7) (120, 7) (278,) (120,)\n"
          ]
        }
      ]
    },
    {
      "cell_type": "code",
      "source": [
        "# normalization\n",
        "from sklearn.preprocessing import StandardScaler\n",
        "scaler = StandardScaler()\n",
        "\n",
        "X_train = scaler.fit_transform(X_train)\n",
        "X_test = scaler.transform(X_test)"
      ],
      "metadata": {
        "id": "JgoPguj6VBYr"
      },
      "execution_count": 20,
      "outputs": []
    },
    {
      "cell_type": "code",
      "source": [
        "model = LinearRegression()\n",
        "model.fit(X_train, Y_train)\n",
        "\n",
        "# to calculate R squared\n",
        "R2 = model.score(X_test, Y_test)\n",
        "print(\"R-squared: %.4f\" %R2) # 67.35% of price are influenced or explained by the feature variables\n",
        "\n",
        "print(\"Intercept (b0): \", model.intercept_)\n",
        "print(\"slope(b1):\", model.coef_) # average price not influenced by the feature variable\n",
        "\n",
        "y_pred = model.predict(X_test)\n",
        "\n",
        "# Find the mean square error\n",
        "MSE = mean_squared_error(Y_test, y_pred)\n",
        "print(\"Mean squared error: %.2f\" % MSE)"
      ],
      "metadata": {
        "colab": {
          "base_uri": "https://localhost:8080/"
        },
        "id": "4xUD68ZWWN8L",
        "outputId": "bd3a681c-f125-490d-f650-babd28ebeeaa"
      },
      "execution_count": 21,
      "outputs": [
        {
          "output_type": "stream",
          "name": "stdout",
          "text": [
            "R-squared: 0.8180\n",
            "Intercept (b0):  23.413669064748202\n",
            "slope(b1): [-0.52297989  2.11182116 -0.82179902 -5.47187939  0.43395704  2.75287047\n",
            "  1.15906569]\n",
            "Mean squared error: 11.65\n"
          ]
        }
      ]
    },
    {
      "cell_type": "code",
      "source": [
        "from sklearn.linear_model import SGDRegressor\n",
        "from sklearn.model_selection import GridSearchCV # cross validation\n",
        "parameters = {'loss': ('squared_error', 'huber'), \n",
        "              'penalty': ('l2', 'l1', 'elasticnet'), \n",
        "              'alpha': [1e-6, 1e-5, 1e-4, 1e-3, 1e-2, 1e-1, 1], \n",
        "              'max_iter': [3000, 5000],\n",
        "              'random_state': [0, 2, 5]\n",
        "              }\n",
        "model3 = SGDRegressor()\n",
        "clf = GridSearchCV(model3, parameters)\n",
        "clf.fit(X_train, Y_train)"
      ],
      "metadata": {
        "colab": {
          "base_uri": "https://localhost:8080/",
          "height": 140
        },
        "id": "HP_xCzPTW7jY",
        "outputId": "a1220bd5-0514-49c9-b1e0-974acda4a43d"
      },
      "execution_count": 22,
      "outputs": [
        {
          "output_type": "execute_result",
          "data": {
            "text/plain": [
              "GridSearchCV(estimator=SGDRegressor(),\n",
              "             param_grid={'alpha': [1e-06, 1e-05, 0.0001, 0.001, 0.01, 0.1, 1],\n",
              "                         'loss': ('squared_error', 'huber'),\n",
              "                         'max_iter': [3000, 5000],\n",
              "                         'penalty': ('l2', 'l1', 'elasticnet'),\n",
              "                         'random_state': [0, 2, 5]})"
            ],
            "text/html": [
              "<style>#sk-container-id-1 {color: black;background-color: white;}#sk-container-id-1 pre{padding: 0;}#sk-container-id-1 div.sk-toggleable {background-color: white;}#sk-container-id-1 label.sk-toggleable__label {cursor: pointer;display: block;width: 100%;margin-bottom: 0;padding: 0.3em;box-sizing: border-box;text-align: center;}#sk-container-id-1 label.sk-toggleable__label-arrow:before {content: \"▸\";float: left;margin-right: 0.25em;color: #696969;}#sk-container-id-1 label.sk-toggleable__label-arrow:hover:before {color: black;}#sk-container-id-1 div.sk-estimator:hover label.sk-toggleable__label-arrow:before {color: black;}#sk-container-id-1 div.sk-toggleable__content {max-height: 0;max-width: 0;overflow: hidden;text-align: left;background-color: #f0f8ff;}#sk-container-id-1 div.sk-toggleable__content pre {margin: 0.2em;color: black;border-radius: 0.25em;background-color: #f0f8ff;}#sk-container-id-1 input.sk-toggleable__control:checked~div.sk-toggleable__content {max-height: 200px;max-width: 100%;overflow: auto;}#sk-container-id-1 input.sk-toggleable__control:checked~label.sk-toggleable__label-arrow:before {content: \"▾\";}#sk-container-id-1 div.sk-estimator input.sk-toggleable__control:checked~label.sk-toggleable__label {background-color: #d4ebff;}#sk-container-id-1 div.sk-label input.sk-toggleable__control:checked~label.sk-toggleable__label {background-color: #d4ebff;}#sk-container-id-1 input.sk-hidden--visually {border: 0;clip: rect(1px 1px 1px 1px);clip: rect(1px, 1px, 1px, 1px);height: 1px;margin: -1px;overflow: hidden;padding: 0;position: absolute;width: 1px;}#sk-container-id-1 div.sk-estimator {font-family: monospace;background-color: #f0f8ff;border: 1px dotted black;border-radius: 0.25em;box-sizing: border-box;margin-bottom: 0.5em;}#sk-container-id-1 div.sk-estimator:hover {background-color: #d4ebff;}#sk-container-id-1 div.sk-parallel-item::after {content: \"\";width: 100%;border-bottom: 1px solid gray;flex-grow: 1;}#sk-container-id-1 div.sk-label:hover label.sk-toggleable__label {background-color: #d4ebff;}#sk-container-id-1 div.sk-serial::before {content: \"\";position: absolute;border-left: 1px solid gray;box-sizing: border-box;top: 0;bottom: 0;left: 50%;z-index: 0;}#sk-container-id-1 div.sk-serial {display: flex;flex-direction: column;align-items: center;background-color: white;padding-right: 0.2em;padding-left: 0.2em;position: relative;}#sk-container-id-1 div.sk-item {position: relative;z-index: 1;}#sk-container-id-1 div.sk-parallel {display: flex;align-items: stretch;justify-content: center;background-color: white;position: relative;}#sk-container-id-1 div.sk-item::before, #sk-container-id-1 div.sk-parallel-item::before {content: \"\";position: absolute;border-left: 1px solid gray;box-sizing: border-box;top: 0;bottom: 0;left: 50%;z-index: -1;}#sk-container-id-1 div.sk-parallel-item {display: flex;flex-direction: column;z-index: 1;position: relative;background-color: white;}#sk-container-id-1 div.sk-parallel-item:first-child::after {align-self: flex-end;width: 50%;}#sk-container-id-1 div.sk-parallel-item:last-child::after {align-self: flex-start;width: 50%;}#sk-container-id-1 div.sk-parallel-item:only-child::after {width: 0;}#sk-container-id-1 div.sk-dashed-wrapped {border: 1px dashed gray;margin: 0 0.4em 0.5em 0.4em;box-sizing: border-box;padding-bottom: 0.4em;background-color: white;}#sk-container-id-1 div.sk-label label {font-family: monospace;font-weight: bold;display: inline-block;line-height: 1.2em;}#sk-container-id-1 div.sk-label-container {text-align: center;}#sk-container-id-1 div.sk-container {/* jupyter's `normalize.less` sets `[hidden] { display: none; }` but bootstrap.min.css set `[hidden] { display: none !important; }` so we also need the `!important` here to be able to override the default hidden behavior on the sphinx rendered scikit-learn.org. See: https://github.com/scikit-learn/scikit-learn/issues/21755 */display: inline-block !important;position: relative;}#sk-container-id-1 div.sk-text-repr-fallback {display: none;}</style><div id=\"sk-container-id-1\" class=\"sk-top-container\"><div class=\"sk-text-repr-fallback\"><pre>GridSearchCV(estimator=SGDRegressor(),\n",
              "             param_grid={&#x27;alpha&#x27;: [1e-06, 1e-05, 0.0001, 0.001, 0.01, 0.1, 1],\n",
              "                         &#x27;loss&#x27;: (&#x27;squared_error&#x27;, &#x27;huber&#x27;),\n",
              "                         &#x27;max_iter&#x27;: [3000, 5000],\n",
              "                         &#x27;penalty&#x27;: (&#x27;l2&#x27;, &#x27;l1&#x27;, &#x27;elasticnet&#x27;),\n",
              "                         &#x27;random_state&#x27;: [0, 2, 5]})</pre><b>In a Jupyter environment, please rerun this cell to show the HTML representation or trust the notebook. <br />On GitHub, the HTML representation is unable to render, please try loading this page with nbviewer.org.</b></div><div class=\"sk-container\" hidden><div class=\"sk-item sk-dashed-wrapped\"><div class=\"sk-label-container\"><div class=\"sk-label sk-toggleable\"><input class=\"sk-toggleable__control sk-hidden--visually\" id=\"sk-estimator-id-1\" type=\"checkbox\" ><label for=\"sk-estimator-id-1\" class=\"sk-toggleable__label sk-toggleable__label-arrow\">GridSearchCV</label><div class=\"sk-toggleable__content\"><pre>GridSearchCV(estimator=SGDRegressor(),\n",
              "             param_grid={&#x27;alpha&#x27;: [1e-06, 1e-05, 0.0001, 0.001, 0.01, 0.1, 1],\n",
              "                         &#x27;loss&#x27;: (&#x27;squared_error&#x27;, &#x27;huber&#x27;),\n",
              "                         &#x27;max_iter&#x27;: [3000, 5000],\n",
              "                         &#x27;penalty&#x27;: (&#x27;l2&#x27;, &#x27;l1&#x27;, &#x27;elasticnet&#x27;),\n",
              "                         &#x27;random_state&#x27;: [0, 2, 5]})</pre></div></div></div><div class=\"sk-parallel\"><div class=\"sk-parallel-item\"><div class=\"sk-item\"><div class=\"sk-label-container\"><div class=\"sk-label sk-toggleable\"><input class=\"sk-toggleable__control sk-hidden--visually\" id=\"sk-estimator-id-2\" type=\"checkbox\" ><label for=\"sk-estimator-id-2\" class=\"sk-toggleable__label sk-toggleable__label-arrow\">estimator: SGDRegressor</label><div class=\"sk-toggleable__content\"><pre>SGDRegressor()</pre></div></div></div><div class=\"sk-serial\"><div class=\"sk-item\"><div class=\"sk-estimator sk-toggleable\"><input class=\"sk-toggleable__control sk-hidden--visually\" id=\"sk-estimator-id-3\" type=\"checkbox\" ><label for=\"sk-estimator-id-3\" class=\"sk-toggleable__label sk-toggleable__label-arrow\">SGDRegressor</label><div class=\"sk-toggleable__content\"><pre>SGDRegressor()</pre></div></div></div></div></div></div></div></div></div></div>"
            ]
          },
          "metadata": {},
          "execution_count": 22
        }
      ]
    },
    {
      "cell_type": "code",
      "source": [
        "clf.best_params_"
      ],
      "metadata": {
        "colab": {
          "base_uri": "https://localhost:8080/"
        },
        "id": "IkDIYMDxY6Sc",
        "outputId": "65e9e611-8b8f-4d59-d325-5fdc3979365f"
      },
      "execution_count": 26,
      "outputs": [
        {
          "output_type": "execute_result",
          "data": {
            "text/plain": [
              "{'alpha': 0.01,\n",
              " 'loss': 'squared_error',\n",
              " 'max_iter': 3000,\n",
              " 'penalty': 'l1',\n",
              " 'random_state': 2}"
            ]
          },
          "metadata": {},
          "execution_count": 26
        }
      ]
    },
    {
      "cell_type": "code",
      "source": [
        "clf.best_score_"
      ],
      "metadata": {
        "colab": {
          "base_uri": "https://localhost:8080/"
        },
        "id": "9XfZgVZzYvrR",
        "outputId": "804f4465-be58-4537-9906-449943291476"
      },
      "execution_count": 23,
      "outputs": [
        {
          "output_type": "execute_result",
          "data": {
            "text/plain": [
              "0.8090621255916555"
            ]
          },
          "metadata": {},
          "execution_count": 23
        }
      ]
    },
    {
      "cell_type": "code",
      "source": [
        "clf.best_estimator_.intercept_"
      ],
      "metadata": {
        "colab": {
          "base_uri": "https://localhost:8080/"
        },
        "id": "9hxurtdLYzFv",
        "outputId": "71b2814f-8c63-43d5-fd7c-d569db7ee501"
      },
      "execution_count": 24,
      "outputs": [
        {
          "output_type": "execute_result",
          "data": {
            "text/plain": [
              "array([23.40744004])"
            ]
          },
          "metadata": {},
          "execution_count": 24
        }
      ]
    },
    {
      "cell_type": "code",
      "source": [
        "clf.best_estimator_.coef_"
      ],
      "metadata": {
        "colab": {
          "base_uri": "https://localhost:8080/"
        },
        "id": "DJrXlyerY2_N",
        "outputId": "7ce37399-b044-43f0-b16b-9d20066d83e8"
      },
      "execution_count": 25,
      "outputs": [
        {
          "output_type": "execute_result",
          "data": {
            "text/plain": [
              "array([ 0.        ,  0.58675971, -0.9791737 , -4.52616865,  0.1946593 ,\n",
              "        2.69931413,  1.05782259])"
            ]
          },
          "metadata": {},
          "execution_count": 25
        }
      ]
    }
  ]
}
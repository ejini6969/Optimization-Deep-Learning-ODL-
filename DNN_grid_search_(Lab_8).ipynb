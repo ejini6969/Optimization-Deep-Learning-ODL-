{
  "nbformat": 4,
  "nbformat_minor": 0,
  "metadata": {
    "colab": {
      "provenance": [],
      "authorship_tag": "ABX9TyP9OrDPwFg/dN7aqrCSSa3W",
      "include_colab_link": true
    },
    "kernelspec": {
      "name": "python3",
      "display_name": "Python 3"
    },
    "language_info": {
      "name": "python"
    }
  },
  "cells": [
    {
      "cell_type": "markdown",
      "metadata": {
        "id": "view-in-github",
        "colab_type": "text"
      },
      "source": [
        "<a href=\"https://colab.research.google.com/github/ejini6969/Optimization-Deep-Learning-ODL-/blob/main/DNN_grid_search_(Lab_8).ipynb\" target=\"_parent\"><img src=\"https://colab.research.google.com/assets/colab-badge.svg\" alt=\"Open In Colab\"/></a>"
      ]
    },
    {
      "cell_type": "code",
      "source": [
        "from keras.datasets import mnist\n",
        "\n",
        "# Loading the dataset\n",
        "(X_train, y_train), (X_test, y_test) = mnist.load_data()"
      ],
      "metadata": {
        "id": "Fzwzun6zVIkY"
      },
      "execution_count": 13,
      "outputs": []
    },
    {
      "cell_type": "code",
      "source": [
        "print(X_train.shape)\n",
        "print(y_train.shape)\n",
        "print(X_test.shape)\n",
        "print(y_test.shape)"
      ],
      "metadata": {
        "colab": {
          "base_uri": "https://localhost:8080/"
        },
        "id": "Fa_Op69JVMf7",
        "outputId": "0e1716b3-0cfa-4184-908d-dcaf19f03578"
      },
      "execution_count": 14,
      "outputs": [
        {
          "output_type": "stream",
          "name": "stdout",
          "text": [
            "(60000, 28, 28)\n",
            "(60000,)\n",
            "(10000, 28, 28)\n",
            "(10000,)\n"
          ]
        }
      ]
    },
    {
      "cell_type": "code",
      "execution_count": 19,
      "metadata": {
        "id": "U4ZUMisMUZdW"
      },
      "outputs": [],
      "source": [
        "from keras.models import Sequential\n",
        "from keras.layers import Dense, Dropout\n",
        "from keras.utils import to_categorical\n",
        "\n",
        "# Flattening the images from the 28x28 pixels to 784 pixels\n",
        "X_train = X_train.reshape(60000, 784)\n",
        "X_test = X_test.reshape(10000, 784)\n",
        "X_train = X_train.astype(\"float32\")\n",
        "X_test = X_test.astype(\"float32\")"
      ]
    },
    {
      "cell_type": "code",
      "source": [
        "# range of pixel between 0 - 255\n",
        "\n",
        "# normalizing the dataset to help with training\n",
        "X_train /= 255\n",
        "X_test /= 255"
      ],
      "metadata": {
        "id": "9g2JLKgQVRxL"
      },
      "execution_count": 16,
      "outputs": []
    },
    {
      "cell_type": "code",
      "source": [
        "# One-hot encoding\n",
        "Y_train = to_categorical(y_train)\n",
        "Y_test = to_categorical(y_test)\n",
        "print(\"Shape before one-hot encoding: \", y_train.shape)\n",
        "print(\"Shape after one-hot encoding: \", Y_train.shape)\n",
        "\n",
        "# 0 - 9 added after one-hot encoding"
      ],
      "metadata": {
        "colab": {
          "base_uri": "https://localhost:8080/"
        },
        "id": "XzZub32ZVdh-",
        "outputId": "29b2fb6d-edd1-47ce-979f-4ac2c3918a95"
      },
      "execution_count": 17,
      "outputs": [
        {
          "output_type": "stream",
          "name": "stdout",
          "text": [
            "Shape before one-hot encoding:  (60000,)\n",
            "Shape after one-hot encoding:  (60000, 10)\n"
          ]
        }
      ]
    },
    {
      "cell_type": "code",
      "source": [
        "# Building a linear stack of layers with the sequential model\n",
        "\n",
        "L1 = 200\n",
        "L2 = 100\n",
        "L3 = 50\n",
        "\n",
        "# this uses grey scale, if RGB (colored) image, input_dim must be 28 * 28 * 3\n",
        "model = Sequential()\n",
        "model.add(Dense(L1, input_dim = 28 * 28, activation = 'relu'))\n",
        "model.add(Dense(L2, activation = 'relu'))\n",
        "model.add(Dense(L3, activation = 'relu'))"
      ],
      "metadata": {
        "id": "MCe__sZhWqfk"
      },
      "execution_count": 21,
      "outputs": []
    },
    {
      "cell_type": "code",
      "source": [
        "# Output layer (Softmax = multinominal)\n",
        "model.add(Dense(10, activation = 'softmax')) # has 10 categorial vales (0 - 9)"
      ],
      "metadata": {
        "id": "bjGd4tLfYU3d"
      },
      "execution_count": 22,
      "outputs": []
    },
    {
      "cell_type": "code",
      "source": [
        "# compiling the sequential model\n",
        "model.compile(loss = 'categorical_crossentropy', metrics = ['accuracy'], optimizer = 'adam')"
      ],
      "metadata": {
        "id": "VKdmIJGSYcDC"
      },
      "execution_count": 23,
      "outputs": []
    },
    {
      "cell_type": "code",
      "source": [
        "# training the model for 10 epochs\n",
        "history = model.fit(X_train, Y_train, epochs = 10, batch_size = 100, validation_data = (X_test, Y_test))"
      ],
      "metadata": {
        "colab": {
          "base_uri": "https://localhost:8080/"
        },
        "id": "jEztLsf8YqWf",
        "outputId": "52796484-18ce-46ea-f798-e8b41997b72e"
      },
      "execution_count": 24,
      "outputs": [
        {
          "output_type": "stream",
          "name": "stdout",
          "text": [
            "Epoch 1/10\n",
            "600/600 [==============================] - 7s 8ms/step - loss: 0.2802 - accuracy: 0.9177 - val_loss: 0.1180 - val_accuracy: 0.9632\n",
            "Epoch 2/10\n",
            "600/600 [==============================] - 4s 7ms/step - loss: 0.1061 - accuracy: 0.9675 - val_loss: 0.0925 - val_accuracy: 0.9714\n",
            "Epoch 3/10\n",
            "600/600 [==============================] - 5s 9ms/step - loss: 0.0698 - accuracy: 0.9782 - val_loss: 0.0937 - val_accuracy: 0.9705\n",
            "Epoch 4/10\n",
            "600/600 [==============================] - 4s 7ms/step - loss: 0.0537 - accuracy: 0.9830 - val_loss: 0.0771 - val_accuracy: 0.9772\n",
            "Epoch 5/10\n",
            "600/600 [==============================] - 4s 7ms/step - loss: 0.0410 - accuracy: 0.9867 - val_loss: 0.0856 - val_accuracy: 0.9736\n",
            "Epoch 6/10\n",
            "600/600 [==============================] - 5s 9ms/step - loss: 0.0312 - accuracy: 0.9898 - val_loss: 0.0737 - val_accuracy: 0.9798\n",
            "Epoch 7/10\n",
            "600/600 [==============================] - 4s 7ms/step - loss: 0.0262 - accuracy: 0.9915 - val_loss: 0.0780 - val_accuracy: 0.9771\n",
            "Epoch 8/10\n",
            "600/600 [==============================] - 4s 7ms/step - loss: 0.0207 - accuracy: 0.9933 - val_loss: 0.0757 - val_accuracy: 0.9792\n",
            "Epoch 9/10\n",
            "600/600 [==============================] - 5s 9ms/step - loss: 0.0202 - accuracy: 0.9933 - val_loss: 0.0914 - val_accuracy: 0.9760\n",
            "Epoch 10/10\n",
            "600/600 [==============================] - 4s 7ms/step - loss: 0.0174 - accuracy: 0.9937 - val_loss: 0.0995 - val_accuracy: 0.9766\n"
          ]
        }
      ]
    },
    {
      "cell_type": "code",
      "source": [
        "import matplotlib.pyplot as plt\n",
        "\n",
        "acc2 = history.history[\"accuracy\"]\n",
        "val_acc = history.history[\"val_accuracy\"]\n",
        "loss2 = history.history[\"loss\"]\n",
        "val_loss = history.history[\"val_loss\"]\n",
        "\n",
        "epochs = range(1, len(acc2) + 1)\n",
        "\n",
        "plt.plot(epochs, acc2, 'b', label = 'Train Accuracy')\n",
        "plt.plot(epochs, val_acc, 'r', label = 'Test Accuracy')\n",
        "plt.legend()\n",
        "plt.figure()\n",
        "plt.plot(epochs, loss2, 'b', label = 'Train Loss')\n",
        "plt.plot(epochs, val_loss, 'r', label= 'Test Loss')\n",
        "plt.legend()\n",
        "plt.show()"
      ],
      "metadata": {
        "colab": {
          "base_uri": "https://localhost:8080/",
          "height": 513
        },
        "id": "1Sso7zjxZXf9",
        "outputId": "c5d30036-5af0-43d2-c9b1-30363be9a0f7"
      },
      "execution_count": 31,
      "outputs": [
        {
          "output_type": "display_data",
          "data": {
            "text/plain": [
              "<Figure size 432x288 with 1 Axes>"
            ],
            "image/png": "[encoded data removed]"
          },
          "metadata": {
            "needs_background": "light"
          }
        },
        {
          "output_type": "display_data",
          "data": {
            "text/plain": [
              "<Figure size 432x288 with 1 Axes>"
            ],
            "image/png": "[encoded data removed]"
          },
          "metadata": {
            "needs_background": "light"
          }
        }
      ]
    },
    {
      "cell_type": "markdown",
      "source": [
        "## Grid Search Hyperparameters"
      ],
      "metadata": {
        "id": "A2M-4fBsavaT"
      }
    },
    {
      "cell_type": "code",
      "source": [
        "pip install scikeras"
      ],
      "metadata": {
        "colab": {
          "base_uri": "https://localhost:8080/"
        },
        "id": "niBeRhlFax6N",
        "outputId": "e050b3b6-7cfb-4fa7-b136-5d2e619abb06"
      },
      "execution_count": 27,
      "outputs": [
        {
          "output_type": "stream",
          "name": "stdout",
          "text": [
            "Looking in indexes: https://pypi.org/simple, https://us-python.pkg.dev/colab-wheels/public/simple/\n",
            "Collecting scikeras\n",
            "  Downloading scikeras-0.10.0-py3-none-any.whl (27 kB)\n",
            "Requirement already satisfied: packaging>=0.21 in /usr/local/lib/python3.9/dist-packages (from scikeras) (23.0)\n",
            "Requirement already satisfied: scikit-learn>=1.0.0 in /usr/local/lib/python3.9/dist-packages (from scikeras) (1.2.2)\n",
            "Requirement already satisfied: numpy>=1.17.3 in /usr/local/lib/python3.9/dist-packages (from scikit-learn>=1.0.0->scikeras) (1.22.4)\n",
            "Requirement already satisfied: joblib>=1.1.1 in /usr/local/lib/python3.9/dist-packages (from scikit-learn>=1.0.0->scikeras) (1.1.1)\n",
            "Requirement already satisfied: scipy>=1.3.2 in /usr/local/lib/python3.9/dist-packages (from scikit-learn>=1.0.0->scikeras) (1.10.1)\n",
            "Requirement already satisfied: threadpoolctl>=2.0.0 in /usr/local/lib/python3.9/dist-packages (from scikit-learn>=1.0.0->scikeras) (3.1.0)\n",
            "Installing collected packages: scikeras\n",
            "Successfully installed scikeras-0.10.0\n"
          ]
        }
      ]
    },
    {
      "cell_type": "code",
      "source": [
        "from sklearn.model_selection import GridSearchCV\n",
        "from scikeras.wrappers import KerasClassifier"
      ],
      "metadata": {
        "id": "j9bVTFeba-G1"
      },
      "execution_count": 29,
      "outputs": []
    },
    {
      "cell_type": "code",
      "source": [
        "# Function to create model, required for KerasClassifier\n",
        "def create_model():\n",
        "  # create model\n",
        "  model5 = Sequential()\n",
        "  model5.add(Dense(200, input_dim = 28 * 28, activation = 'relu'))\n",
        "  model5.add(Dense(100, activation = 'relu'))\n",
        "  model5.add(Dense(50, activation = 'relu'))\n",
        "  model5.add(Dense(10, activation = 'softmax'))\n",
        "\n",
        "  #compile model\n",
        "  model5.compile(loss = 'categorical_crossentropy', optimizer = 'adam', metrics = ['accuracy'])\n",
        "  return model5"
      ],
      "metadata": {
        "id": "L0yN97wzbTRI"
      },
      "execution_count": 32,
      "outputs": []
    },
    {
      "cell_type": "markdown",
      "source": [
        "Tune"
      ],
      "metadata": {
        "id": "rHKntA5XcY7a"
      }
    },
    {
      "cell_type": "code",
      "source": [
        "# create model\n",
        "model5 = KerasClassifier(model = create_model, verbose = 0)\n",
        "\n",
        "# define grid search parameters\n",
        "batch_size = [100, 125]\n",
        "epochs = [10, 15, 20]\n",
        "param_grid = dict(batch_size = batch_size, epochs = epochs)\n",
        "grid = GridSearchCV(estimator = model5, param_grid = param_grid, n_jobs = -1, cv = 3)\n",
        "grid_result = grid.fit(X_train, Y_train)"
      ],
      "metadata": {
        "id": "mF-RHxykcAaT"
      },
      "execution_count": 33,
      "outputs": []
    },
    {
      "cell_type": "markdown",
      "source": [
        "By setting verbose 0, 1 or 2 just say how do you want to 'see' the training progress for each epoch. verbose = 0 will  show you nothing (silent).\n",
        "\n",
        "n_jobs = -1 means using using all processors. This means that the n_jobs parameter can be used to distribute and exploit all the CPUs avaialble in the local computer"
      ],
      "metadata": {
        "id": "8TgA-PuqiSKI"
      }
    },
    {
      "cell_type": "code",
      "source": [
        "# summarize results\n",
        "print(\"Best: %f using %s\" %(grid_result.best_score_, grid_result.best_params_))\n",
        "means = grid_result.cv_results_[\"mean_test_score\"]\n",
        "stds = grid_result.cv_results_[\"std_test_score\"]\n",
        "params = grid_result.cv_results_[\"params\"]\n",
        "for mean, stdev, param in zip(means, stds, params):\n",
        "  print(\"%f (%f) with: %r\" %(mean, stdev, param))"
      ],
      "metadata": {
        "colab": {
          "base_uri": "https://localhost:8080/"
        },
        "id": "6OQHVlnAhIgG",
        "outputId": "fd5f3442-9c5a-4052-b83b-f1d59e6cd8d9"
      },
      "execution_count": 35,
      "outputs": [
        {
          "output_type": "stream",
          "name": "stdout",
          "text": [
            "Best: 0.974800 using {'batch_size': 125, 'epochs': 20}\n",
            "0.970333 (0.001274) with: {'batch_size': 100, 'epochs': 10}\n",
            "0.969917 (0.002561) with: {'batch_size': 100, 'epochs': 15}\n",
            "0.971983 (0.000811) with: {'batch_size': 100, 'epochs': 20}\n",
            "0.973067 (0.001573) with: {'batch_size': 125, 'epochs': 10}\n",
            "0.973100 (0.001937) with: {'batch_size': 125, 'epochs': 15}\n",
            "0.974800 (0.001412) with: {'batch_size': 125, 'epochs': 20}\n"
          ]
        }
      ]
    },
    {
      "cell_type": "code",
      "source": [
        "# create model\n",
        "model5 = KerasClassifier(model = create_model, verbose = 0)\n",
        "\n",
        "# define the grid search parameters\n",
        "batch_size = [100, 128]\n",
        "epochs = [10, 15, 20]\n",
        "param_grid = dict(batch_size = batch_size, epochs = epochs)\n",
        "optimizer = ['SGD', 'RMSprop', 'Adagrad', 'Adadelta', 'Adam', 'Adamax', 'Nadam']\n",
        "\n",
        "grid = GridSearchCV(estimator = model5, param_grid = param_grid,\n",
        "                    n_jobs = -1, cv=3)\n",
        "grid_result = grid.fit(X_train, Y_train)"
      ],
      "metadata": {
        "id": "z6U2PPu4idiv"
      },
      "execution_count": 36,
      "outputs": []
    },
    {
      "cell_type": "markdown",
      "source": [
        "## Tune the Neuron Activation Function"
      ],
      "metadata": {
        "id": "nPwGQu05jlBq"
      }
    },
    {
      "cell_type": "code",
      "source": [
        "# Function to create model, required for KerasClassifier\n",
        "def create_model(activation = 'relu'):\n",
        "  # create model\n",
        "  model5 = Sequential()\n",
        "  model5.add(Dense(50, input_dim = 28 * 28, activation = activation))\n",
        "  model5.add(Dense(10, activation = 'softmax'))\n",
        "  #compile model\n",
        "  model5.compile(loss = 'categorical_crossentropy', optimizer = 'adam', metrics = ['accuracy'])\n",
        "  return model5"
      ],
      "metadata": {
        "id": "8UJCG6MNjqBN"
      },
      "execution_count": null,
      "outputs": []
    },
    {
      "cell_type": "code",
      "source": [
        "# create model\n",
        "model7 = KerasClassifier(model = create_model, epochs = 10, batch_size = 10, verbose = 0)\n",
        "activation = [\"softmax\", \"softplus\", \"softsign\", \"relu\", \"tanh\", \"sigmoid\", \"hard_sigmoid\", \"linear\"]\n",
        "param_grid = dict(model__activation = activation)\n",
        "grid = GridSearchCV(estimator = model7, param_grid = param_grid,\n",
        "                    n_jobs = -1, cv=3)\n",
        "grid_result = grid.fit(X_train, Y_train)"
      ],
      "metadata": {
        "id": "UwSbdyudkxmH"
      },
      "execution_count": null,
      "outputs": []
    }
  ]
}
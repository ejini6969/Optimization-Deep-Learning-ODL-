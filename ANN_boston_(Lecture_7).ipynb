{
  "nbformat": 4,
  "nbformat_minor": 0,
  "metadata": {
    "colab": {
      "provenance": [],
      "authorship_tag": "ABX9TyMlj2rznrwNg5/2bJpnuOxt",
      "include_colab_link": true
    },
    "kernelspec": {
      "name": "python3",
      "display_name": "Python 3"
    },
    "language_info": {
      "name": "python"
    }
  },
  "cells": [
    {
      "cell_type": "markdown",
      "metadata": {
        "id": "view-in-github",
        "colab_type": "text"
      },
      "source": [
        "<a href=\"https://colab.research.google.com/github/ejini6969/Optimization-Deep-Learning-ODL-/blob/main/ANN_boston_(Lecture_7).ipynb\" target=\"_parent\"><img src=\"https://colab.research.google.com/assets/colab-badge.svg\" alt=\"Open In Colab\"/></a>"
      ]
    },
    {
      "cell_type": "code",
      "source": [
        "from google.colab import drive\n",
        "drive.mount(\"drive\")"
      ],
      "metadata": {
        "colab": {
          "base_uri": "https://localhost:8080/"
        },
        "id": "6Q5TTRazLugi",
        "outputId": "ceec9f3a-a5d0-4498-f57d-f08599ddf2a5"
      },
      "execution_count": 1,
      "outputs": [
        {
          "output_type": "stream",
          "name": "stdout",
          "text": [
            "Mounted at drive\n"
          ]
        }
      ]
    },
    {
      "cell_type": "code",
      "source": [
        "import pandas as pd\n",
        "import numpy as np\n",
        "import matplotlib.pyplot as plt\n",
        "\n",
        "from sklearn.model_selection import train_test_split"
      ],
      "metadata": {
        "id": "0ToJl5dTR3Wn"
      },
      "execution_count": 2,
      "outputs": []
    },
    {
      "cell_type": "code",
      "source": [
        "path = '/content/drive/MyDrive/boston.csv'"
      ],
      "metadata": {
        "id": "rrNIs7bqXa1e"
      },
      "execution_count": 3,
      "outputs": []
    },
    {
      "cell_type": "code",
      "source": [
        "data = pd.read_csv(path)\n",
        "data.head()"
      ],
      "metadata": {
        "id": "3ewWSsxkX0Tt",
        "outputId": "b841c379-b76a-44a1-a3bc-1381e8705b45",
        "colab": {
          "base_uri": "https://localhost:8080/",
          "height": 206
        }
      },
      "execution_count": 4,
      "outputs": [
        {
          "output_type": "execute_result",
          "data": {
            "text/plain": [
              "      CRIM    ZN  INDUS  CHAS    NOX     RM   AGE     DIS  RAD    TAX  \\\n",
              "0  0.00632  18.0   2.31   0.0  0.538  6.575  65.2  4.0900  1.0  296.0   \n",
              "1  0.02731   0.0   7.07   0.0  0.469  6.421  78.9  4.9671  2.0  242.0   \n",
              "2  0.02729   0.0   7.07   0.0  0.469  7.185  61.1  4.9671  2.0  242.0   \n",
              "3  0.03237   0.0   2.18   0.0  0.458  6.998  45.8  6.0622  3.0  222.0   \n",
              "4  0.06905   0.0   2.18   0.0  0.458  7.147  54.2  6.0622  3.0  222.0   \n",
              "\n",
              "   PTRATIO       B  LSTAT  PRICE  \n",
              "0     15.3  396.90   4.98   24.0  \n",
              "1     17.8  396.90   9.14   21.6  \n",
              "2     17.8  392.83   4.03   34.7  \n",
              "3     18.7  394.63   2.94   33.4  \n",
              "4     18.7  396.90   5.33   36.2  "
            ],
            "text/html": [
              "\n",
              "  <div id=\"df-d2a78d7c-9da5-4eac-b09e-676715dd511a\">\n",
              "    <div class=\"colab-df-container\">\n",
              "      <div>\n",
              "<style scoped>\n",
              "    .dataframe tbody tr th:only-of-type {\n",
              "        vertical-align: middle;\n",
              "    }\n",
              "\n",
              "    .dataframe tbody tr th {\n",
              "        vertical-align: top;\n",
              "    }\n",
              "\n",
              "    .dataframe thead th {\n",
              "        text-align: right;\n",
              "    }\n",
              "</style>\n",
              "<table border=\"1\" class=\"dataframe\">\n",
              "  <thead>\n",
              "    <tr style=\"text-align: right;\">\n",
              "      <th></th>\n",
              "      <th>CRIM</th>\n",
              "      <th>ZN</th>\n",
              "      <th>INDUS</th>\n",
              "      <th>CHAS</th>\n",
              "      <th>NOX</th>\n",
              "      <th>RM</th>\n",
              "      <th>AGE</th>\n",
              "      <th>DIS</th>\n",
              "      <th>RAD</th>\n",
              "      <th>TAX</th>\n",
              "      <th>PTRATIO</th>\n",
              "      <th>B</th>\n",
              "      <th>LSTAT</th>\n",
              "      <th>PRICE</th>\n",
              "    </tr>\n",
              "  </thead>\n",
              "  <tbody>\n",
              "    <tr>\n",
              "      <th>0</th>\n",
              "      <td>0.00632</td>\n",
              "      <td>18.0</td>\n",
              "      <td>2.31</td>\n",
              "      <td>0.0</td>\n",
              "      <td>0.538</td>\n",
              "      <td>6.575</td>\n",
              "      <td>65.2</td>\n",
              "      <td>4.0900</td>\n",
              "      <td>1.0</td>\n",
              "      <td>296.0</td>\n",
              "      <td>15.3</td>\n",
              "      <td>396.90</td>\n",
              "      <td>4.98</td>\n",
              "      <td>24.0</td>\n",
              "    </tr>\n",
              "    <tr>\n",
              "      <th>1</th>\n",
              "      <td>0.02731</td>\n",
              "      <td>0.0</td>\n",
              "      <td>7.07</td>\n",
              "      <td>0.0</td>\n",
              "      <td>0.469</td>\n",
              "      <td>6.421</td>\n",
              "      <td>78.9</td>\n",
              "      <td>4.9671</td>\n",
              "      <td>2.0</td>\n",
              "      <td>242.0</td>\n",
              "      <td>17.8</td>\n",
              "      <td>396.90</td>\n",
              "      <td>9.14</td>\n",
              "      <td>21.6</td>\n",
              "    </tr>\n",
              "    <tr>\n",
              "      <th>2</th>\n",
              "      <td>0.02729</td>\n",
              "      <td>0.0</td>\n",
              "      <td>7.07</td>\n",
              "      <td>0.0</td>\n",
              "      <td>0.469</td>\n",
              "      <td>7.185</td>\n",
              "      <td>61.1</td>\n",
              "      <td>4.9671</td>\n",
              "      <td>2.0</td>\n",
              "      <td>242.0</td>\n",
              "      <td>17.8</td>\n",
              "      <td>392.83</td>\n",
              "      <td>4.03</td>\n",
              "      <td>34.7</td>\n",
              "    </tr>\n",
              "    <tr>\n",
              "      <th>3</th>\n",
              "      <td>0.03237</td>\n",
              "      <td>0.0</td>\n",
              "      <td>2.18</td>\n",
              "      <td>0.0</td>\n",
              "      <td>0.458</td>\n",
              "      <td>6.998</td>\n",
              "      <td>45.8</td>\n",
              "      <td>6.0622</td>\n",
              "      <td>3.0</td>\n",
              "      <td>222.0</td>\n",
              "      <td>18.7</td>\n",
              "      <td>394.63</td>\n",
              "      <td>2.94</td>\n",
              "      <td>33.4</td>\n",
              "    </tr>\n",
              "    <tr>\n",
              "      <th>4</th>\n",
              "      <td>0.06905</td>\n",
              "      <td>0.0</td>\n",
              "      <td>2.18</td>\n",
              "      <td>0.0</td>\n",
              "      <td>0.458</td>\n",
              "      <td>7.147</td>\n",
              "      <td>54.2</td>\n",
              "      <td>6.0622</td>\n",
              "      <td>3.0</td>\n",
              "      <td>222.0</td>\n",
              "      <td>18.7</td>\n",
              "      <td>396.90</td>\n",
              "      <td>5.33</td>\n",
              "      <td>36.2</td>\n",
              "    </tr>\n",
              "  </tbody>\n",
              "</table>\n",
              "</div>\n",
              "      <button class=\"colab-df-convert\" onclick=\"convertToInteractive('df-d2a78d7c-9da5-4eac-b09e-676715dd511a')\"\n",
              "              title=\"Convert this dataframe to an interactive table.\"\n",
              "              style=\"display:none;\">\n",
              "        \n",
              "  <svg xmlns=\"http://www.w3.org/2000/svg\" height=\"24px\"viewBox=\"0 0 24 24\"\n",
              "       width=\"24px\">\n",
              "    <path d=\"M0 0h24v24H0V0z\" fill=\"none\"/>\n",
              "    <path d=\"M18.56 5.44l.94 2.06.94-2.06 2.06-.94-2.06-.94-.94-2.06-.94 2.06-2.06.94zm-11 1L8.5 8.5l.94-2.06 2.06-.94-2.06-.94L8.5 2.5l-.94 2.06-2.06.94zm10 10l.94 2.06.94-2.06 2.06-.94-2.06-.94-.94-2.06-.94 2.06-2.06.94z\"/><path d=\"M17.41 7.96l-1.37-1.37c-.4-.4-.92-.59-1.43-.59-.52 0-1.04.2-1.43.59L10.3 9.45l-7.72 7.72c-.78.78-.78 2.05 0 2.83L4 21.41c.39.39.9.59 1.41.59.51 0 1.02-.2 1.41-.59l7.78-7.78 2.81-2.81c.8-.78.8-2.07 0-2.86zM5.41 20L4 18.59l7.72-7.72 1.47 1.35L5.41 20z\"/>\n",
              "  </svg>\n",
              "      </button>\n",
              "      \n",
              "  <style>\n",
              "    .colab-df-container {\n",
              "      display:flex;\n",
              "      flex-wrap:wrap;\n",
              "      gap: 12px;\n",
              "    }\n",
              "\n",
              "    .colab-df-convert {\n",
              "      background-color: #E8F0FE;\n",
              "      border: none;\n",
              "      border-radius: 50%;\n",
              "      cursor: pointer;\n",
              "      display: none;\n",
              "      fill: #1967D2;\n",
              "      height: 32px;\n",
              "      padding: 0 0 0 0;\n",
              "      width: 32px;\n",
              "    }\n",
              "\n",
              "    .colab-df-convert:hover {\n",
              "      background-color: #E2EBFA;\n",
              "      box-shadow: 0px 1px 2px rgba(60, 64, 67, 0.3), 0px 1px 3px 1px rgba(60, 64, 67, 0.15);\n",
              "      fill: #174EA6;\n",
              "    }\n",
              "\n",
              "    [theme=dark] .colab-df-convert {\n",
              "      background-color: #3B4455;\n",
              "      fill: #D2E3FC;\n",
              "    }\n",
              "\n",
              "    [theme=dark] .colab-df-convert:hover {\n",
              "      background-color: #434B5C;\n",
              "      box-shadow: 0px 1px 3px 1px rgba(0, 0, 0, 0.15);\n",
              "      filter: drop-shadow(0px 1px 2px rgba(0, 0, 0, 0.3));\n",
              "      fill: #FFFFFF;\n",
              "    }\n",
              "  </style>\n",
              "\n",
              "      <script>\n",
              "        const buttonEl =\n",
              "          document.querySelector('#df-d2a78d7c-9da5-4eac-b09e-676715dd511a button.colab-df-convert');\n",
              "        buttonEl.style.display =\n",
              "          google.colab.kernel.accessAllowed ? 'block' : 'none';\n",
              "\n",
              "        async function convertToInteractive(key) {\n",
              "          const element = document.querySelector('#df-d2a78d7c-9da5-4eac-b09e-676715dd511a');\n",
              "          const dataTable =\n",
              "            await google.colab.kernel.invokeFunction('convertToInteractive',\n",
              "                                                     [key], {});\n",
              "          if (!dataTable) return;\n",
              "\n",
              "          const docLinkHtml = 'Like what you see? Visit the ' +\n",
              "            '<a target=\"_blank\" href=https://colab.research.google.com/notebooks/data_table.ipynb>data table notebook</a>'\n",
              "            + ' to learn more about interactive tables.';\n",
              "          element.innerHTML = '';\n",
              "          dataTable['output_type'] = 'display_data';\n",
              "          await google.colab.output.renderOutput(dataTable, element);\n",
              "          const docLink = document.createElement('div');\n",
              "          docLink.innerHTML = docLinkHtml;\n",
              "          element.appendChild(docLink);\n",
              "        }\n",
              "      </script>\n",
              "    </div>\n",
              "  </div>\n",
              "  "
            ]
          },
          "metadata": {},
          "execution_count": 4
        }
      ]
    },
    {
      "cell_type": "code",
      "execution_count": 5,
      "metadata": {
        "id": "Xi9RqsJmLmxX"
      },
      "outputs": [],
      "source": [
        "Y = data[\"PRICE\"]\n",
        "X = data.drop(\"PRICE\", axis = 1)"
      ]
    },
    {
      "cell_type": "code",
      "source": [
        "X_train, X_test, y_train, y_test = train_test_split(X, Y, test_size = 0.2, random_state = 0)\n",
        "print(\"X_train shape\", X_train.shape)\n",
        "print(\"y_train shape\", y_train.shape)\n",
        "print(\"X_test shape\", X_test.shape)\n",
        "print(\"y_test shape\", y_test.shape)"
      ],
      "metadata": {
        "colab": {
          "base_uri": "https://localhost:8080/"
        },
        "id": "dvb8NhzvRsYI",
        "outputId": "b4ad3632-4f05-4198-ceae-8327d7a297a4"
      },
      "execution_count": 6,
      "outputs": [
        {
          "output_type": "stream",
          "name": "stdout",
          "text": [
            "X_train shape (404, 13)\n",
            "y_train shape (404,)\n",
            "X_test shape (102, 13)\n",
            "y_test shape (102,)\n"
          ]
        }
      ]
    },
    {
      "cell_type": "code",
      "source": [
        "# normalization\n",
        "from sklearn.preprocessing import StandardScaler\n",
        "scaler = StandardScaler()\n",
        "\n",
        "X_train = scaler.fit_transform(X_train)\n",
        "X_test = scaler.transform(X_test)"
      ],
      "metadata": {
        "id": "NQoPdpwFN9bc"
      },
      "execution_count": 7,
      "outputs": []
    },
    {
      "cell_type": "code",
      "source": [
        "from keras.models import Sequential\n",
        "from keras.layers import Dense, Dropout\n",
        "from keras import initializers\n",
        "from keras import regularizers\n",
        "from keras.callbacks import EarlyStopping"
      ],
      "metadata": {
        "id": "Qz-DBlmaNyCQ"
      },
      "execution_count": 8,
      "outputs": []
    },
    {
      "cell_type": "markdown",
      "source": [
        "## Initial Model"
      ],
      "metadata": {
        "id": "I1R_HD_MOmz0"
      }
    },
    {
      "cell_type": "code",
      "source": [
        "# building the sequential model\n",
        "\n",
        "L1 = 100 # number of neurons / hidden layers (Randomly assigned)\n",
        "L2 = 100\n",
        "\n",
        "model = Sequential()\n",
        "model.add(Dense(L1, input_dim = 13, activation = 'relu')) # input_dim based on number of feature variables\n",
        "model.add(Dense(L2, activation = 'relu')) \n",
        "\n",
        "# Output layer\n",
        "model.add(Dense(1, activation = \"linear\")) # output is binary variable (0 / 1) (prefer sigmoid), unless multi-class target variables which is dependent on the final number (prefer softmax)\n",
        "# put 1 when target variable is binary or continuous "
      ],
      "metadata": {
        "id": "Yp3xplLHPvQm"
      },
      "execution_count": 9,
      "outputs": []
    },
    {
      "cell_type": "code",
      "source": [
        "# compiling the sequential model\n",
        "model.compile(loss = \"mse\", metrics = [\"mae\"], optimizer = \"rmsprop\")"
      ],
      "metadata": {
        "id": "TfWYHlI5MZ4n"
      },
      "execution_count": 10,
      "outputs": []
    },
    {
      "cell_type": "code",
      "source": [
        "# training the model for 10 epochs\n",
        "history = model.fit(X_train, y_train, epochs = 10, batch_size = 100, validation_data = (X_test, y_test))"
      ],
      "metadata": {
        "colab": {
          "base_uri": "https://localhost:8080/"
        },
        "id": "Key7lcPDRRJk",
        "outputId": "5d60d7a4-f333-48d8-c0f0-da9f0cf82548"
      },
      "execution_count": 11,
      "outputs": [
        {
          "output_type": "stream",
          "name": "stdout",
          "text": [
            "Epoch 1/10\n",
            "5/5 [==============================] - 1s 84ms/step - loss: 572.1163 - mae: 22.0725 - val_loss: 516.1045 - val_mae: 20.8412\n",
            "Epoch 2/10\n",
            "5/5 [==============================] - 0s 16ms/step - loss: 517.0381 - mae: 20.8399 - val_loss: 471.5744 - val_mae: 19.7193\n",
            "Epoch 3/10\n",
            "5/5 [==============================] - 0s 17ms/step - loss: 468.7063 - mae: 19.6714 - val_loss: 422.2626 - val_mae: 18.4645\n",
            "Epoch 4/10\n",
            "5/5 [==============================] - 0s 20ms/step - loss: 412.4774 - mae: 18.3402 - val_loss: 369.2318 - val_mae: 17.0380\n",
            "Epoch 5/10\n",
            "5/5 [==============================] - 0s 18ms/step - loss: 354.2788 - mae: 16.8106 - val_loss: 313.3545 - val_mae: 15.4450\n",
            "Epoch 6/10\n",
            "5/5 [==============================] - 0s 23ms/step - loss: 292.4124 - mae: 15.0880 - val_loss: 264.7177 - val_mae: 13.8638\n",
            "Epoch 7/10\n",
            "5/5 [==============================] - 0s 21ms/step - loss: 239.3315 - mae: 13.4124 - val_loss: 222.9604 - val_mae: 12.3480\n",
            "Epoch 8/10\n",
            "5/5 [==============================] - 0s 19ms/step - loss: 193.6649 - mae: 11.8435 - val_loss: 184.3301 - val_mae: 10.9009\n",
            "Epoch 9/10\n",
            "5/5 [==============================] - 0s 20ms/step - loss: 152.7926 - mae: 10.2536 - val_loss: 153.2677 - val_mae: 9.8184\n",
            "Epoch 10/10\n",
            "5/5 [==============================] - 0s 17ms/step - loss: 120.8369 - mae: 8.9353 - val_loss: 127.2201 - val_mae: 8.8841\n"
          ]
        }
      ]
    },
    {
      "cell_type": "code",
      "source": [
        "import matplotlib.pyplot as plt\n",
        "\n",
        "acc2 = history.history['mae']\n",
        "val_acc = history.history['val_mae']\n",
        "loss2 = history.history['loss']\n",
        "val_loss = history.history['val_loss']\n",
        "\n",
        "epochs = range(1, len(acc2) + 1)\n",
        "\n",
        "plt.plot(epochs, acc2, 'b', label = 'Train MAE')\n",
        "plt.plot(epochs, val_acc, 'r', label = 'Test MAE')\n",
        "plt.legend()\n",
        "plt.figure()\n",
        "plt.plot(epochs, loss2, 'b', label = 'Train Loss')\n",
        "plt.plot(epochs, val_loss, 'r', label = 'Test Loss')\n",
        "plt.legend()\n",
        "plt.show()"
      ],
      "metadata": {
        "colab": {
          "base_uri": "https://localhost:8080/",
          "height": 513
        },
        "id": "t48PQiAORkdQ",
        "outputId": "0ba985b2-2d77-4ab4-bb3c-37ada412b30a"
      },
      "execution_count": 12,
      "outputs": [
        {
          "output_type": "display_data",
          "data": {
            "text/plain": [
              "<Figure size 432x288 with 1 Axes>"
            ],
            "image/png": "[encoded data removed]"
          },
          "metadata": {
            "needs_background": "light"
          }
        },
        {
          "output_type": "display_data",
          "data": {
            "text/plain": [
              "<Figure size 432x288 with 1 Axes>"
            ],
            "image/png": "[encoded data removed]"
          },
          "metadata": {
            "needs_background": "light"
          }
        }
      ]
    },
    {
      "cell_type": "markdown",
      "source": [
        "## EXERCISE\n",
        "\n",
        "Add more hidden layers with different number of neurons in the model building, you may use different activation function to improve the performance."
      ],
      "metadata": {
        "id": "IPDiQn48UzZX"
      }
    },
    {
      "cell_type": "code",
      "source": [
        "L1=100\n",
        "L2=100\n",
        "L3=100\n",
        "\n",
        "model1 = Sequential()\n",
        "model1.add(Dense(L1,input_dim=13,activation='relu')) #input dimension based on feature variables\n",
        "model1.add(Dense(L2,activation='relu'))\n",
        "model1.add(Dense(L3,activation='relu'))\n",
        "\n",
        "#output layer\n",
        "model1.add(Dense(1,activation='linear')) #continuous target variable\n",
        "\n",
        "#Compiling the sequential model\n",
        "model1.compile(loss='mse',metrics=['mae'],optimizer='rmsprop') #root mean square propagation\n",
        "\n",
        "history = model1.fit(X_train, y_train, epochs = 20, batch_size = 100, validation_data = (X_test, y_test))"
      ],
      "metadata": {
        "id": "PZqRmiUUX9ik",
        "outputId": "a36c32d6-af33-4c63-db0e-3f8d79c7254e",
        "colab": {
          "base_uri": "https://localhost:8080/"
        }
      },
      "execution_count": 13,
      "outputs": [
        {
          "output_type": "stream",
          "name": "stdout",
          "text": [
            "Epoch 1/20\n",
            "5/5 [==============================] - 2s 74ms/step - loss: 570.2633 - mae: 22.0351 - val_loss: 479.9247 - val_mae: 20.0427\n",
            "Epoch 2/20\n",
            "5/5 [==============================] - 0s 19ms/step - loss: 460.0970 - mae: 19.5218 - val_loss: 362.7725 - val_mae: 16.9893\n",
            "Epoch 3/20\n",
            "5/5 [==============================] - 0s 42ms/step - loss: 328.4560 - mae: 16.0451 - val_loss: 226.5146 - val_mae: 12.8486\n",
            "Epoch 4/20\n",
            "5/5 [==============================] - 0s 43ms/step - loss: 186.9545 - mae: 11.5405 - val_loss: 122.7172 - val_mae: 8.5826\n",
            "Epoch 5/20\n",
            "5/5 [==============================] - 0s 34ms/step - loss: 91.3584 - mae: 7.6190 - val_loss: 80.8478 - val_mae: 6.6436\n",
            "Epoch 6/20\n",
            "5/5 [==============================] - 0s 46ms/step - loss: 54.8548 - mae: 5.6452 - val_loss: 65.4858 - val_mae: 5.7519\n",
            "Epoch 7/20\n",
            "5/5 [==============================] - 0s 29ms/step - loss: 41.4050 - mae: 4.8062 - val_loss: 58.6775 - val_mae: 5.4775\n",
            "Epoch 8/20\n",
            "5/5 [==============================] - 0s 23ms/step - loss: 34.3335 - mae: 4.2801 - val_loss: 52.4958 - val_mae: 5.0286\n",
            "Epoch 9/20\n",
            "5/5 [==============================] - 0s 43ms/step - loss: 28.5790 - mae: 3.8179 - val_loss: 52.3358 - val_mae: 4.9408\n",
            "Epoch 10/20\n",
            "5/5 [==============================] - 0s 33ms/step - loss: 25.9262 - mae: 3.6009 - val_loss: 47.7129 - val_mae: 4.7274\n",
            "Epoch 11/20\n",
            "5/5 [==============================] - 0s 29ms/step - loss: 23.5780 - mae: 3.4341 - val_loss: 46.7740 - val_mae: 4.7090\n",
            "Epoch 12/20\n",
            "5/5 [==============================] - 0s 41ms/step - loss: 23.1439 - mae: 3.4113 - val_loss: 46.5932 - val_mae: 4.6361\n",
            "Epoch 13/20\n",
            "5/5 [==============================] - 0s 44ms/step - loss: 22.7616 - mae: 3.3158 - val_loss: 45.9895 - val_mae: 4.6233\n",
            "Epoch 14/20\n",
            "5/5 [==============================] - 0s 36ms/step - loss: 20.5247 - mae: 3.1264 - val_loss: 47.7538 - val_mae: 4.7994\n",
            "Epoch 15/20\n",
            "5/5 [==============================] - 0s 40ms/step - loss: 20.1210 - mae: 3.1996 - val_loss: 49.5343 - val_mae: 4.7464\n",
            "Epoch 16/20\n",
            "5/5 [==============================] - 0s 31ms/step - loss: 19.3372 - mae: 3.0759 - val_loss: 39.3842 - val_mae: 4.2448\n",
            "Epoch 17/20\n",
            "5/5 [==============================] - 0s 29ms/step - loss: 17.3361 - mae: 2.8892 - val_loss: 40.2332 - val_mae: 4.2769\n",
            "Epoch 18/20\n",
            "5/5 [==============================] - 0s 40ms/step - loss: 16.5912 - mae: 2.8515 - val_loss: 41.4872 - val_mae: 4.3163\n",
            "Epoch 19/20\n",
            "5/5 [==============================] - 0s 33ms/step - loss: 16.7007 - mae: 2.8566 - val_loss: 41.2575 - val_mae: 4.2555\n",
            "Epoch 20/20\n",
            "5/5 [==============================] - 0s 41ms/step - loss: 15.5141 - mae: 2.7484 - val_loss: 54.1495 - val_mae: 5.1645\n"
          ]
        }
      ]
    }
  ]
}